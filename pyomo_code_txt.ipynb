{
  "nbformat": 4,
  "nbformat_minor": 0,
  "metadata": {
    "colab": {
      "provenance": []
    },
    "kernelspec": {
      "name": "python3",
      "display_name": "Python 3"
    },
    "language_info": {
      "name": "python"
    }
  },
  "cells": [
    {
      "cell_type": "code",
      "source": [
        "## Installing Pyomo\n",
        "!pip install -q pyomo"
      ],
      "metadata": {
        "colab": {
          "base_uri": "https://localhost:8080/"
        },
        "id": "E4-nLDA2njoQ",
        "outputId": "fd7ecb6b-d5ab-4e3e-b5e1-2ecf66e4121b"
      },
      "execution_count": null,
      "outputs": [
        {
          "output_type": "stream",
          "name": "stdout",
          "text": [
            "\u001b[2K   \u001b[90m━━━━━━━━━━━━━━━━━━━━━━━━━━━━━━━━━━━━━━━━\u001b[0m \u001b[32m13.3/13.3 MB\u001b[0m \u001b[31m35.9 MB/s\u001b[0m eta \u001b[36m0:00:00\u001b[0m\n",
            "\u001b[2K   \u001b[90m━━━━━━━━━━━━━━━━━━━━━━━━━━━━━━━━━━━━━━━━\u001b[0m \u001b[32m49.6/49.6 kB\u001b[0m \u001b[31m1.5 MB/s\u001b[0m eta \u001b[36m0:00:00\u001b[0m\n",
            "\u001b[?25h"
          ]
        }
      ]
    },
    {
      "cell_type": "code",
      "source": [
        "## Importing Pyomo\n",
        "from pyomo.environ import *\n",
        "from itertools import combinations"
      ],
      "metadata": {
        "id": "FmOXOe6Znz_T"
      },
      "execution_count": null,
      "outputs": []
    },
    {
      "cell_type": "code",
      "execution_count": null,
      "metadata": {
        "id": "XPNl3bmjfX2t"
      },
      "outputs": [],
      "source": [
        "model = ConcreteModel()\n",
        "model.n = 34\n",
        "model.V = Set(initialize = range(1, model.n+1))\n",
        "model.E = Set(initialize = [(1,2),(1,17),(2,3),(3,17),(2,7),(2,8),(8,7),(7,6),(6,9),(9,10),(10,11),(11,12),(12,13),(13,16),(16,17),(5,4),(4,17),(17,3),(3,4),(1,18),(18,19),(19,20),\n",
        "          (20,21),(21,22),(22,23),(23,18),(19,22),(23,24),(24,25),(25,26),(26,27),(27,28),(28,29),(29,30),(30,24),(26,31),(28,32),(32,33),(32,31),(31,34),(33,34),\n",
        "         (11,34),(11,10),(5,6),(13,14),(14,15),(14,26),(15,16),(15,25),(24,27)])\n",
        "model.w = Param(model.E, initialize={(1,2):650,(1,17):400,(2,3):200,(3,17):49,(2,7):650,(2,8):220,(8,7):280,(7,6):140,(6,9):140,(9,10):270,(10,11):250,(11,12):200,(12,13):110,(13,16):150,(16,17):110,(5,4):300,(4,17):280,(17,3):49,(3,4):130,(1,18):950,(18,19):150,(19,20):250,\n",
        "          (20,21):270,(21,22):170,(22,23):120,(23,18):93,(19,22):72,(23,24):140,(24,25):140,(25,26):110,(26,27):160,(27,28):150,(28,29):240,(29,30):86,(30,24):180,(26,31):170,(28,32):270,(32,33):140,(32,31):160,(31,34):200,(33,34):140,\n",
        "         (11,34):250,(11,10):250,(5,6):79,(13,14):92,(14,15):210,(14,26):84,(15,16):140,(15,25):210,(24,27):120})\n",
        "\n",
        "# initialize variables\n",
        "model.x = Var(model.E, domain=Binary)\n",
        "\n",
        "# define objective function\n",
        "model.obj = Objective(expr=sum(model.w[e]*model.x[e] for e in model.E), sense=maximize)\n",
        "\n",
        "# define constraints\n",
        "model.degree_constraint = ConstraintList()\n",
        "for i in model.V:\n",
        "  model.degree_constraint.add(sum(model.x[e] for e in model.E) == 2)\n",
        "\n",
        "model.subtour_elimination = ConstraintList()\n",
        "for S in combinations(model.E, 3):\n",
        "  model.subtour_elimination.add(sum(model.x[e] for e in combinations(S, 2)) <= len(S)-1)\n"
      ]
    }
  ]
}